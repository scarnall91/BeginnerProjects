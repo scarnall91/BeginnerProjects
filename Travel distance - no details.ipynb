{
 "cells": [
  {
   "cell_type": "code",
   "execution_count": 2,
   "metadata": {},
   "outputs": [],
   "source": [
    "import pandas as pd\n",
    "import googlemaps\n",
    "from itertools import tee\n",
    "import urllib.request\n",
    "import json\n",
    "import re"
   ]
  },
  {
   "cell_type": "code",
   "execution_count": 138,
   "metadata": {},
   "outputs": [
    {
     "data": {
      "text/html": [
       "<div>\n",
       "<style scoped>\n",
       "    .dataframe tbody tr th:only-of-type {\n",
       "        vertical-align: middle;\n",
       "    }\n",
       "\n",
       "    .dataframe tbody tr th {\n",
       "        vertical-align: top;\n",
       "    }\n",
       "\n",
       "    .dataframe thead th {\n",
       "        text-align: right;\n",
       "    }\n",
       "</style>\n",
       "<table border=\"1\" class=\"dataframe\">\n",
       "  <thead>\n",
       "    <tr style=\"text-align: right;\">\n",
       "      <th></th>\n",
       "      <th>Unnamed: 0</th>\n",
       "      <th>Name</th>\n",
       "      <th>Department</th>\n",
       "      <th>Postcode Start</th>\n",
       "      <th>Postcode End</th>\n",
       "    </tr>\n",
       "  </thead>\n",
       "  <tbody>\n",
       "    <tr>\n",
       "      <th>0</th>\n",
       "      <td>0</td>\n",
       "      <td>Test A</td>\n",
       "      <td>Dep A</td>\n",
       "      <td>TN161DP</td>\n",
       "      <td>SE14YJ</td>\n",
       "    </tr>\n",
       "    <tr>\n",
       "      <th>1</th>\n",
       "      <td>1</td>\n",
       "      <td>Test B</td>\n",
       "      <td>Dep B</td>\n",
       "      <td>E11GU</td>\n",
       "      <td>SE14YJ</td>\n",
       "    </tr>\n",
       "    <tr>\n",
       "      <th>2</th>\n",
       "      <td>2</td>\n",
       "      <td>Test C</td>\n",
       "      <td>Dep C</td>\n",
       "      <td>B25NY</td>\n",
       "      <td>SE14YJ</td>\n",
       "    </tr>\n",
       "  </tbody>\n",
       "</table>\n",
       "</div>"
      ],
      "text/plain": [
       "   Unnamed: 0    Name Department Postcode Start Postcode End\n",
       "0           0  Test A      Dep A        TN161DP       SE14YJ\n",
       "1           1  Test B      Dep B          E11GU       SE14YJ\n",
       "2           2  Test C      Dep C          B25NY       SE14YJ"
      ]
     },
     "execution_count": 138,
     "metadata": {},
     "output_type": "execute_result"
    }
   ],
   "source": [
    "df = pd.read_csv('C:/Users/lonsc47/Documents/Test.csv')\n",
    "df.head(3)"
   ]
  },
  {
   "cell_type": "code",
   "execution_count": 148,
   "metadata": {},
   "outputs": [],
   "source": [
    "destination = \"SE1%204YJ\"\n",
    "pub_list_distances = []\n",
    "pub_list_times_hours = []\n",
    "pub_list_times_mins = []\n",
    "car_list_distances = []\n",
    "car_list_times_hours = []\n",
    "car_list_times_mins = []\n",
    "\n",
    "#Get public transport distances / times for each row one by one - feed them into api using url#\n",
    "for num, row in enumerate(df['Postcode Start']):\n",
    "    #substring the postcode to get first 3-4 chars and last 3 chars separately#\n",
    "    start_pos_code = df['Postcode Start'][num][:-3:]\n",
    "    end_pos_code = df['Postcode Start'][num][-3::]\n",
    "    origin = start_pos_code+\"%20\"+end_pos_code\n",
    "    \n",
    "    #write api url with origin, destination, mode and api key - generates a json#\n",
    "    url = \"https://maps.googleapis.com/maps/api/distancematrix/json?units=imperial&origins=\"+origin+\"&destinations=\"+destination+\"&mode=transit&key=[KEY HERE]\"\n",
    "    res = urllib.request.urlopen(url).read()\n",
    "    data = json.loads(res.decode())\n",
    "    \n",
    "    #grab distance and time from json#\n",
    "    distance = data[\"rows\"][0][\"elements\"][0][\"distance\"][\"text\"]\n",
    "    time = data[\"rows\"][0][\"elements\"][0][\"duration\"][\"text\"]\n",
    "    \n",
    "    #append distance and time to lists - will be added to final dataframe#\n",
    "    pub_list_distances.append(distance[:-3])\n",
    "    pub_list_times_hours.append(time)\n",
    "    \n",
    "    #use regex to extract hour and minutes separately to create a total minutes value#\n",
    "    mins = re.search('[0-9]{1,}(?= [m])',time).group(0)\n",
    "    try:\n",
    "        hours = re.search('(?<! )[0-9]{1,}(?= [h])',time).group(0)\n",
    "    except:\n",
    "        hours = 0\n",
    "        pass\n",
    "    total_mins = int(mins) + (int(hours)*60)\n",
    "    pub_list_times_mins.append(total_mins)\n",
    "\n",
    "    \n",
    "    \n",
    "#Get driving distances / times#\n",
    "for num, row in enumerate(df['Postcode Start']):\n",
    "    start_pos_code = df['Postcode Start'][num][:-3:]\n",
    "    end_pos_code = df['Postcode Start'][num][-3::]\n",
    "    origin = start_pos_code+\"%20\"+end_pos_code\n",
    "    url = \"https://maps.googleapis.com/maps/api/distancematrix/json?units=imperial&origins=\"+origin+\"&destinations=\"+destination+\"&key=[KEY HERE]\"\n",
    "    res = urllib.request.urlopen(url).read()\n",
    "    data = json.loads(res.decode())\n",
    "    distance = data[\"rows\"][0][\"elements\"][0][\"distance\"][\"text\"]\n",
    "    time = data[\"rows\"][0][\"elements\"][0][\"duration\"][\"text\"]\n",
    "    car_list_distances.append(distance[:-3])\n",
    "    car_list_times_hours.append(time)\n",
    "    mins = re.search('[0-9]{1,}(?= [m])',time).group(0)\n",
    "    try:\n",
    "        hours = re.search('(?<! )[0-9]{1,}(?= [h])',time).group(0)\n",
    "    except:\n",
    "        hours = 0\n",
    "        pass\n",
    "    total_mins = int(mins) + (int(hours)*60)\n",
    "    car_list_times_mins.append(total_mins)\n",
    "    \n",
    "print('done')"
   ]
  },
  {
   "cell_type": "code",
   "execution_count": 149,
   "metadata": {},
   "outputs": [
    {
     "data": {
      "text/html": [
       "<div>\n",
       "<style scoped>\n",
       "    .dataframe tbody tr th:only-of-type {\n",
       "        vertical-align: middle;\n",
       "    }\n",
       "\n",
       "    .dataframe tbody tr th {\n",
       "        vertical-align: top;\n",
       "    }\n",
       "\n",
       "    .dataframe thead th {\n",
       "        text-align: right;\n",
       "    }\n",
       "</style>\n",
       "<table border=\"1\" class=\"dataframe\">\n",
       "  <thead>\n",
       "    <tr style=\"text-align: right;\">\n",
       "      <th></th>\n",
       "      <th>Unnamed: 0</th>\n",
       "      <th>Name</th>\n",
       "      <th>Department</th>\n",
       "      <th>Postcode Start</th>\n",
       "      <th>Postcode End</th>\n",
       "      <th>Distance by Public Transport (miles)</th>\n",
       "      <th>Time by Public Transport</th>\n",
       "      <th>Time by Public Transport (mins)</th>\n",
       "      <th>Distance by Car (miles)</th>\n",
       "      <th>Time by Car</th>\n",
       "      <th>Time by Car (mins)</th>\n",
       "    </tr>\n",
       "  </thead>\n",
       "  <tbody>\n",
       "    <tr>\n",
       "      <th>0</th>\n",
       "      <td>0</td>\n",
       "      <td>Test A</td>\n",
       "      <td>Dep A</td>\n",
       "      <td>TN161DP</td>\n",
       "      <td>SE14YJ</td>\n",
       "      <td>22.8</td>\n",
       "      <td>1 hour 25 mins</td>\n",
       "      <td>85</td>\n",
       "      <td>28.5</td>\n",
       "      <td>1 hour 6 mins</td>\n",
       "      <td>66</td>\n",
       "    </tr>\n",
       "  </tbody>\n",
       "</table>\n",
       "</div>"
      ],
      "text/plain": [
       "   Unnamed: 0    Name Department Postcode Start Postcode End  \\\n",
       "0           0  Test A      Dep A        TN161DP       SE14YJ   \n",
       "\n",
       "  Distance by Public Transport (miles) Time by Public Transport  \\\n",
       "0                                 22.8           1 hour 25 mins   \n",
       "\n",
       "   Time by Public Transport (mins) Distance by Car (miles)    Time by Car  \\\n",
       "0                               85                    28.5  1 hour 6 mins   \n",
       "\n",
       "   Time by Car (mins)  \n",
       "0                  66  "
      ]
     },
     "execution_count": 149,
     "metadata": {},
     "output_type": "execute_result"
    }
   ],
   "source": [
    "#Set lists as columns in df#\n",
    "df['Distance by Public Transport (miles)'] = pub_list_distances\n",
    "df['Time by Public Transport'] = pub_list_times_hours\n",
    "df['Time by Public Transport (mins)'] = pub_list_times_mins\n",
    "df['Distance by Car (miles)'] = car_list_distances\n",
    "df['Time by Car'] = car_list_times_hours\n",
    "df['Time by Car (mins)'] = car_list_times_mins\n",
    "df.head(1)"
   ]
  },
  {
   "cell_type": "code",
   "execution_count": 150,
   "metadata": {},
   "outputs": [],
   "source": [
    "#Write result#\n",
    "df.to_csv('C:/Users/lonsc47/Documents/Test.csv')"
   ]
  },
  {
   "cell_type": "code",
   "execution_count": null,
   "metadata": {},
   "outputs": [],
   "source": []
  },
  {
   "cell_type": "code",
   "execution_count": null,
   "metadata": {},
   "outputs": [],
   "source": []
  },
  {
   "cell_type": "code",
   "execution_count": null,
   "metadata": {},
   "outputs": [],
   "source": []
  },
  {
   "cell_type": "code",
   "execution_count": null,
   "metadata": {},
   "outputs": [],
   "source": []
  },
  {
   "cell_type": "code",
   "execution_count": null,
   "metadata": {},
   "outputs": [],
   "source": []
  },
  {
   "cell_type": "code",
   "execution_count": null,
   "metadata": {},
   "outputs": [],
   "source": []
  },
  {
   "cell_type": "code",
   "execution_count": null,
   "metadata": {},
   "outputs": [],
   "source": []
  },
  {
   "cell_type": "code",
   "execution_count": null,
   "metadata": {},
   "outputs": [],
   "source": []
  },
  {
   "cell_type": "code",
   "execution_count": null,
   "metadata": {},
   "outputs": [],
   "source": []
  }
 ],
 "metadata": {
  "kernelspec": {
   "display_name": "Python 3",
   "language": "python",
   "name": "python3"
  },
  "language_info": {
   "codemirror_mode": {
    "name": "ipython",
    "version": 3
   },
   "file_extension": ".py",
   "mimetype": "text/x-python",
   "name": "python",
   "nbconvert_exporter": "python",
   "pygments_lexer": "ipython3",
   "version": "3.6.5"
  }
 },
 "nbformat": 4,
 "nbformat_minor": 2
}
